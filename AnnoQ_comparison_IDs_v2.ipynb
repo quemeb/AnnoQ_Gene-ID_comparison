{
  "nbformat": 4,
  "nbformat_minor": 0,
  "metadata": {
    "colab": {
      "name": "AnnoQ_comparison_IDs_v2.ipynb",
      "provenance": [],
      "collapsed_sections": [],
      "authorship_tag": "ABX9TyNRecfatkyTS4RjO7VH5Bnz",
      "include_colab_link": true
    },
    "kernelspec": {
      "name": "python3",
      "display_name": "Python 3"
    },
    "language_info": {
      "name": "python"
    }
  },
  "cells": [
    {
      "cell_type": "markdown",
      "metadata": {
        "id": "view-in-github",
        "colab_type": "text"
      },
      "source": [
        "<a href=\"https://colab.research.google.com/github/quemeb/AnnoQ_Gene-ID_comparison/blob/main/AnnoQ_comparison_IDs_v2.ipynb\" target=\"_parent\"><img src=\"https://colab.research.google.com/assets/colab-badge.svg\" alt=\"Open In Colab\"/></a>"
      ]
    },
    {
      "cell_type": "markdown",
      "metadata": {
        "id": "URszQyZCZQIh"
      },
      "source": [
        "# AnnoQ Gene IDs Comparison \n",
        "\n",
        "The following code was designed to be run using input from [AnnoQ](http://annoq.org/), which compiles results from [ANNOVAR](https://annovar.openbioinformatics.org/en/latest/), [SnpEff](http://pcingola.github.io/SnpEff/), and [VEP](https://uswest.ensembl.org/index.html). \n",
        "\n",
        "The goal of this project is to compare Gene IDs assigned by the different annotation tools to the same SNP in order to inform the end users of any potential missing information. \n",
        "\n",
        "**Disclosure**: The following code is broken into pieces. The code ran in the USC HPC was enclosed in a *main()* function in order to automatically run all the Chromosome SNPs"
      ]
    },
    {
      "cell_type": "markdown",
      "metadata": {
        "id": "N7zbZ6tlZqwM"
      },
      "source": [
        "## Libraries"
      ]
    },
    {
      "cell_type": "code",
      "metadata": {
        "id": "IGncjYbQTqgk"
      },
      "source": [
        "import pandas as pd\n",
        "import numpy as np\n",
        "import re"
      ],
      "execution_count": 1,
      "outputs": []
    },
    {
      "cell_type": "markdown",
      "metadata": {
        "id": "b99gMFsYZvng"
      },
      "source": [
        "## Functions"
      ]
    },
    {
      "cell_type": "code",
      "metadata": {
        "id": "j_lEcvtAT3O1"
      },
      "source": [
        "# Eliminating repeats\n",
        "def no_repeats(nparray):\n",
        "    place = []\n",
        "    for i in range(0,size):\n",
        "        temp = []\n",
        "        temp = np.unique(nparray[i])\n",
        "        place.append(temp)\n",
        "    return(place)\n",
        "        \n",
        "# Mining gene ID\n",
        "def extract(lists):\n",
        "    place =[]\n",
        "    for i in range(0,size):\n",
        "        temp = []\n",
        "        temp = re.findall(\"ENSG...........\", lists[i])\n",
        "        place.append(temp)\n",
        "    return(place)\n",
        "\n",
        "# Looking for differences and writting down the GeneID\n",
        "def difference(array1,array2):\n",
        "    place =[]\n",
        "    for i in range(0,size):\n",
        "        temp = []\n",
        "        temp = np.setdiff1d(array1[i], array2[i], assume_unique = True)\n",
        "        place.append(temp)\n",
        "    return(place)\n",
        "\n",
        "# Counting\n",
        "def counter(arrays):\n",
        "    place = 0\n",
        "    for i in range(0,size):\n",
        "        if(arrays[i].size > 0):\n",
        "            place = place + 1\n",
        "    return place"
      ],
      "execution_count": 2,
      "outputs": []
    },
    {
      "cell_type": "markdown",
      "metadata": {
        "id": "teM8auhCZy9h"
      },
      "source": [
        "## Data Processing"
      ]
    },
    {
      "cell_type": "markdown",
      "metadata": {
        "id": "WpIJr-LLbEZy"
      },
      "source": [
        "### File Input & Data Mining"
      ]
    },
    {
      "cell_type": "code",
      "metadata": {
        "id": "Y87pE7s-T78I"
      },
      "source": [
        "# Reading file \n",
        "filename = \"Test_data.txt\"\n",
        "cdata = pd.read_csv(filename, delimiter=\"\\t\", dtype= object)\n",
        "\n",
        "# Selecting data\n",
        "AN_ID_1 = cdata[\"ANNOVAR_ensembl_Gene_ID\"]  #Gene ID should be here\n",
        "AN_ID_2 = cdata[\"ANNOVAR_ensembl_Closest_gene(intergenic_only)\"]    #alternative place for Gene ID\n",
        "\n",
        "SN_ID_1 = cdata[\"SnpEff_ensembl_Gene_ID\"]   #Gene ID for SnpEff\n",
        "\n",
        "VP_ID_1 = cdata[\"VEP_ensembl_Gene_ID\"]      #Gene ID for VEP\n",
        "\n",
        "chr = cdata[\"chr\"] # chromosome number\n",
        "pos = cdata[\"pos\"] # SNP position\n",
        "ref = cdata[\"ref\"] # reference\n",
        "alt = cdata[\"alt\"] # mutation\n",
        "rs = cdata[\"rs_dbSNP151\"] # rs ID\n",
        "\n",
        "# Finding length of dataset\n",
        "size = len(AN_ID_1)\n"
      ],
      "execution_count": 3,
      "outputs": []
    },
    {
      "cell_type": "markdown",
      "metadata": {
        "id": "XS6W0F7Bbnf6"
      },
      "source": [
        "### Gene ID Extraction & Concatination"
      ]
    },
    {
      "cell_type": "code",
      "metadata": {
        "id": "1Pga2YGOT_kN"
      },
      "source": [
        "# Finding the Gene ID in ANNOVAR\n",
        "AN_ID_tog = []\n",
        "for i in range(0,size):\n",
        "    if(AN_ID_1[i] == \".\"):\n",
        "        AN_ID_tog.append(AN_ID_2[i])\n",
        "    else:\n",
        "        AN_ID_tog.append(AN_ID_1[i])\n",
        "        \n",
        "# Extracting Gene ID in ANNOVAR\n",
        "AN_ID = []\n",
        "AN_ID = extract(AN_ID_tog)\n",
        "\n",
        "# Extracting Gene ID in SnpEff\n",
        "SN_ID = []\n",
        "SN_ID = extract(SN_ID_1)\n",
        "\n",
        "# Extracting Gene ID in VEP\n",
        "VP_ID = []\n",
        "VP_ID = extract(VP_ID_1)\n",
        "\n",
        "# Converting lists to arrays\n",
        "AN_ID = np.array(AN_ID, dtype=object)\n",
        "SN_ID = np.array(SN_ID, dtype=object)\n",
        "VP_ID = np.array(VP_ID, dtype=object)\n",
        "\n",
        "# Getting rid of repeated Gene IDs\n",
        "AN_ID_clean = no_repeats(AN_ID)\n",
        "SN_ID_clean = no_repeats(SN_ID)\n",
        "VP_ID_clean = no_repeats(VP_ID)\n",
        "\n",
        "# Merging all Gene IDs \n",
        "united = []\n",
        "for i in range(0,size):\n",
        "  temp = []\n",
        "  temp = np.concatenate((AN_ID[i], SN_ID[i], VP_ID[i]), axis=None)\n",
        "  united.append(temp)\n",
        "\n",
        "# Getting rid of repeats for each SNP\n",
        "unique_clean = no_repeats(united)"
      ],
      "execution_count": 4,
      "outputs": []
    },
    {
      "cell_type": "markdown",
      "metadata": {
        "id": "cQ5cAw2Ubr_x"
      },
      "source": [
        "### Comparing unique Gene IDs "
      ]
    },
    {
      "cell_type": "code",
      "metadata": {
        "id": "MlCXfiX0fdWN",
        "colab": {
          "base_uri": "https://localhost:8080/"
        },
        "outputId": "25ffc379-c164-47d6-d241-d1a1c23762fd"
      },
      "source": [
        "# Creating empty arrays\n",
        "AN_ID_check = []\n",
        "SN_ID_check = []\n",
        "VP_ID_check = []\n",
        "\n",
        "# Parsing through dataset\n",
        "for i in range(0,size):\n",
        "  zize = len(unique_clean[i])   # number of Gene IDs\n",
        "  if zize == 1:                 # if only 1 Gene ID \n",
        "    if unique_clean[i] in AN_ID_clean[i]:   ## Check if present\n",
        "      AN_ID_check.append([zize]) \n",
        "    else:\n",
        "        AN_ID_check.append([])\n",
        "    if unique_clean[i] in SN_ID_clean[i]:\n",
        "      SN_ID_check.append([zize]) \n",
        "    else:\n",
        "        SN_ID_check.append([])\n",
        "    if unique_clean[i] in VP_ID_clean[i]:\n",
        "      VP_ID_check.append([zize]) \n",
        "    else: \n",
        "      VP_ID_check.append([])\n",
        "  elif zize > 1:                 # if multiple Gene IDs\n",
        "    place_1 = []\n",
        "    place_2 = []\n",
        "    place_3 = []\n",
        "    for x in range(0,zize):      ## Check which ones are present \n",
        "      if unique_clean[i][x] in AN_ID_clean[i]: place_1.append(x+1)\n",
        "      if unique_clean[i][x] in SN_ID_clean[i]: place_2.append(x+1)\n",
        "      if unique_clean[i][x] in VP_ID_clean[i]: place_3.append(x+1)\n",
        "    AN_ID_check.append(place_1)\n",
        "    SN_ID_check.append(place_2)\n",
        "    VP_ID_check.append(place_3)"
      ],
      "execution_count": 5,
      "outputs": [
        {
          "output_type": "stream",
          "name": "stderr",
          "text": [
            "/usr/local/lib/python3.7/dist-packages/ipykernel_launcher.py:29: FutureWarning: elementwise comparison failed; returning scalar instead, but in the future will perform elementwise comparison\n"
          ]
        }
      ]
    },
    {
      "cell_type": "markdown",
      "metadata": {
        "id": "nj5ItJvgJosQ"
      },
      "source": [
        "## Comparison Results Array Table"
      ]
    },
    {
      "cell_type": "code",
      "metadata": {
        "id": "FbzACmOAjrSd"
      },
      "source": [
        "# Creating results table\n",
        "d = {\"Chr\":chr, \n",
        "     \"Position\":pos,\n",
        "     \"Ref\":ref,\n",
        "     \"Alt\":alt,\n",
        "     \"rs ID\":rs,\n",
        "     \"Gene_IDs\":unique_clean,\n",
        "     \"ANNOVAR\":AN_ID_check,\n",
        "     \"SnpEff\":SN_ID_check,\n",
        "     \"VEP\":VP_ID_check}\n",
        "\n",
        "results = pd.DataFrame(d)"
      ],
      "execution_count": 6,
      "outputs": []
    },
    {
      "cell_type": "code",
      "metadata": {
        "colab": {
          "base_uri": "https://localhost:8080/",
          "height": 205
        },
        "id": "qbi5UK2qCvTe",
        "outputId": "24ff4c14-1b14-42a6-8c7d-8ff539db82f6"
      },
      "source": [
        "results.head()"
      ],
      "execution_count": 7,
      "outputs": [
        {
          "output_type": "execute_result",
          "data": {
            "text/html": [
              "<div>\n",
              "<style scoped>\n",
              "    .dataframe tbody tr th:only-of-type {\n",
              "        vertical-align: middle;\n",
              "    }\n",
              "\n",
              "    .dataframe tbody tr th {\n",
              "        vertical-align: top;\n",
              "    }\n",
              "\n",
              "    .dataframe thead th {\n",
              "        text-align: right;\n",
              "    }\n",
              "</style>\n",
              "<table border=\"1\" class=\"dataframe\">\n",
              "  <thead>\n",
              "    <tr style=\"text-align: right;\">\n",
              "      <th></th>\n",
              "      <th>Chr</th>\n",
              "      <th>Position</th>\n",
              "      <th>Ref</th>\n",
              "      <th>Alt</th>\n",
              "      <th>rs ID</th>\n",
              "      <th>Gene_IDs</th>\n",
              "      <th>ANNOVAR</th>\n",
              "      <th>SnpEff</th>\n",
              "      <th>VEP</th>\n",
              "    </tr>\n",
              "  </thead>\n",
              "  <tbody>\n",
              "    <tr>\n",
              "      <th>0</th>\n",
              "      <td>18</td>\n",
              "      <td>494113</td>\n",
              "      <td>A</td>\n",
              "      <td>G</td>\n",
              "      <td>rs8088035</td>\n",
              "      <td>[ENSG00000158270]</td>\n",
              "      <td>[1]</td>\n",
              "      <td>[1]</td>\n",
              "      <td>[1]</td>\n",
              "    </tr>\n",
              "    <tr>\n",
              "      <th>1</th>\n",
              "      <td>18</td>\n",
              "      <td>494417</td>\n",
              "      <td>C</td>\n",
              "      <td>A</td>\n",
              "      <td>rs192013736</td>\n",
              "      <td>[ENSG00000158270]</td>\n",
              "      <td>[1]</td>\n",
              "      <td>[1]</td>\n",
              "      <td>[1]</td>\n",
              "    </tr>\n",
              "    <tr>\n",
              "      <th>2</th>\n",
              "      <td>18</td>\n",
              "      <td>495103</td>\n",
              "      <td>A</td>\n",
              "      <td>G</td>\n",
              "      <td>rs181051523</td>\n",
              "      <td>[ENSG00000158270]</td>\n",
              "      <td>[1]</td>\n",
              "      <td>[1]</td>\n",
              "      <td>[1]</td>\n",
              "    </tr>\n",
              "    <tr>\n",
              "      <th>3</th>\n",
              "      <td>18</td>\n",
              "      <td>495113</td>\n",
              "      <td>A</td>\n",
              "      <td>G</td>\n",
              "      <td>rs150947295</td>\n",
              "      <td>[ENSG00000158270]</td>\n",
              "      <td>[1]</td>\n",
              "      <td>[1]</td>\n",
              "      <td>[1]</td>\n",
              "    </tr>\n",
              "    <tr>\n",
              "      <th>4</th>\n",
              "      <td>18</td>\n",
              "      <td>495478</td>\n",
              "      <td>G</td>\n",
              "      <td>A</td>\n",
              "      <td>rs535439626</td>\n",
              "      <td>[ENSG00000158270]</td>\n",
              "      <td>[1]</td>\n",
              "      <td>[1]</td>\n",
              "      <td>[1]</td>\n",
              "    </tr>\n",
              "  </tbody>\n",
              "</table>\n",
              "</div>"
            ],
            "text/plain": [
              "  Chr Position Ref Alt        rs ID           Gene_IDs ANNOVAR SnpEff  VEP\n",
              "0  18   494113   A   G    rs8088035  [ENSG00000158270]     [1]    [1]  [1]\n",
              "1  18   494417   C   A  rs192013736  [ENSG00000158270]     [1]    [1]  [1]\n",
              "2  18   495103   A   G  rs181051523  [ENSG00000158270]     [1]    [1]  [1]\n",
              "3  18   495113   A   G  rs150947295  [ENSG00000158270]     [1]    [1]  [1]\n",
              "4  18   495478   G   A  rs535439626  [ENSG00000158270]     [1]    [1]  [1]"
            ]
          },
          "metadata": {},
          "execution_count": 7
        }
      ]
    },
    {
      "cell_type": "code",
      "metadata": {
        "id": "ChQBXk-NDdmf"
      },
      "source": [
        "all_agree = 0 #with GeneID union\n",
        "two_agree = 0 #with GeneID union\n",
        "one_agree = 0 #with GeneID union\n",
        "none_agree= 0 #with GeneID union\n",
        "AN_missing = 0 #\n",
        "SN_missing = 0 #\n",
        "VP_missing = 0\n",
        "\n",
        "for i in range(0,size):\n",
        "  zize = len(unique_clean[i])\n",
        "  temp = 0\n",
        "  if zize == len(AN_ID_check[i]):\n",
        "    temp += 1\n",
        "  if zize == len(SN_ID_check[i]):\n",
        "    temp += 1\n",
        "  if zize == len(VP_ID_check[i]):\n",
        "    temp += 1\n",
        "  if temp == 3:             # this means all should agree \n",
        "    all_agree += 1\n",
        "  elif temp == 2:           # exactly two agree\n",
        "    two_agree += 1\n",
        "  elif temp == 1:           # exactly one agrees\n",
        "    one_agree += 1\n",
        "  elif temp == 0:           # no tool has all GeneIDs\n",
        "    none_agree+= 1          # can hardly see it happening"
      ],
      "execution_count": 8,
      "outputs": []
    },
    {
      "cell_type": "code",
      "metadata": {
        "colab": {
          "base_uri": "https://localhost:8080/"
        },
        "id": "P481ONZzKmBm",
        "outputId": "60d9a087-91f4-49ce-c0ca-dc3e84ca3a82"
      },
      "source": [
        "all_agree"
      ],
      "execution_count": 9,
      "outputs": [
        {
          "output_type": "execute_result",
          "data": {
            "text/plain": [
              "3945"
            ]
          },
          "metadata": {},
          "execution_count": 9
        }
      ]
    },
    {
      "cell_type": "code",
      "metadata": {
        "colab": {
          "base_uri": "https://localhost:8080/"
        },
        "id": "rRCaxeWJOAw0",
        "outputId": "ca077b71-d417-4e12-c83f-9c48e632516f"
      },
      "source": [
        "size"
      ],
      "execution_count": 10,
      "outputs": [
        {
          "output_type": "execute_result",
          "data": {
            "text/plain": [
              "4672"
            ]
          },
          "metadata": {},
          "execution_count": 10
        }
      ]
    },
    {
      "cell_type": "code",
      "metadata": {
        "colab": {
          "base_uri": "https://localhost:8080/"
        },
        "id": "TIhXiENrOF3K",
        "outputId": "066564df-e137-4504-f890-c12ddab9d52c"
      },
      "source": [
        "two_agree"
      ],
      "execution_count": 11,
      "outputs": [
        {
          "output_type": "execute_result",
          "data": {
            "text/plain": [
              "585"
            ]
          },
          "metadata": {},
          "execution_count": 11
        }
      ]
    },
    {
      "cell_type": "code",
      "metadata": {
        "colab": {
          "base_uri": "https://localhost:8080/"
        },
        "id": "GeX1CPP0Pg50",
        "outputId": "e7144094-376a-4cff-85f5-0bf13ccb5938"
      },
      "source": [
        "one_agree"
      ],
      "execution_count": 12,
      "outputs": [
        {
          "output_type": "execute_result",
          "data": {
            "text/plain": [
              "142"
            ]
          },
          "metadata": {},
          "execution_count": 12
        }
      ]
    },
    {
      "cell_type": "code",
      "metadata": {
        "colab": {
          "base_uri": "https://localhost:8080/"
        },
        "id": "oHldFmrEQZ2b",
        "outputId": "67028fc8-ed32-4826-9566-8f727ac4d0d4"
      },
      "source": [
        "none_agree"
      ],
      "execution_count": 13,
      "outputs": [
        {
          "output_type": "execute_result",
          "data": {
            "text/plain": [
              "0"
            ]
          },
          "metadata": {},
          "execution_count": 13
        }
      ]
    },
    {
      "cell_type": "markdown",
      "metadata": {
        "id": "WKmBjgYGKYXZ"
      },
      "source": [
        "## Results File Creation"
      ]
    },
    {
      "cell_type": "code",
      "metadata": {
        "id": "VP04wU6ZKU1F"
      },
      "source": [
        "# Naming output file assuming .gz compression\n",
        "filename_1 = filename.split(\"/\")\n",
        "filename_1 = filename_1[-1]\n",
        "filename_1 = filename_1.split(\".\")\n",
        "result_filename = filename_1[0]+\"_processed.\"+filename_1[1] #adding the file extension\n",
        "\n",
        "# Creating a .txt file with results inside\n",
        "#results.to_csv(path_or_buf=('/content/'+result_filename), sep=\"\\t\", index=False) "
      ],
      "execution_count": 16,
      "outputs": []
    },
    {
      "cell_type": "markdown",
      "metadata": {
        "id": "F53Kl_P_KKwc"
      },
      "source": [
        "## Quantifying Differences"
      ]
    },
    {
      "cell_type": "code",
      "metadata": {
        "id": "CC2dXz0HUngl"
      },
      "source": [
        "# Comparing SN vs AN\n",
        "dif_SN_AN = []\n",
        "dif_SN_AN = difference(SN_ID_clean, AN_ID_clean)\n",
        "dif_SN_AN_sum = counter(dif_SN_AN)\n",
        "\n",
        "# Comparing SN vs VP\n",
        "dif_SN_VP = []\n",
        "dif_SN_VP = difference(SN_ID_clean, VP_ID_clean)\n",
        "dif_SN_VP_sum = counter(dif_SN_VP)\n",
        "\n",
        "# Comparing AN vs SN\n",
        "dif_AN_SN = []\n",
        "dif_AN_SN = difference(AN_ID_clean, SN_ID_clean)\n",
        "dif_AN_SN_sum = counter(dif_AN_SN)\n",
        "\n",
        "# Comparing AN vs VP\n",
        "dif_AN_VP = []\n",
        "dif_AN_VP = difference(AN_ID_clean, VP_ID_clean)\n",
        "dif_AN_VP_sum = counter(dif_AN_VP)\n",
        "\n",
        "# Comparing VP vs SN\n",
        "dif_VP_SN = []\n",
        "dif_VP_SN = difference(VP_ID_clean, SN_ID_clean)\n",
        "dif_VP_SN_sum = counter(dif_VP_SN)\n",
        "\n",
        "# Comparing VP vs AN\n",
        "dif_VP_AN = []\n",
        "dif_VP_AN = difference(VP_ID_clean, AN_ID_clean)\n",
        "dif_VP_AN_sum = counter(dif_VP_AN)"
      ],
      "execution_count": 14,
      "outputs": []
    },
    {
      "cell_type": "markdown",
      "metadata": {
        "id": "CQYYq_UPKg5k"
      },
      "source": [
        "## Summary File Creation"
      ]
    },
    {
      "cell_type": "code",
      "metadata": {
        "id": "q8rSeGxsPedp"
      },
      "source": [
        "# Summary results\n",
        "l_1 = \"For Chromosome: \" + chr[1] + \"\\n\"\n",
        "l_8 = \"There are: \" + str(size) + \" SNPs\\n\"\n",
        "l_9 = \"All tools agree with all GeneIDs: \" + str(all_agree) + \"\\n\"\n",
        "l_10= \"Two tools agree with all GeneIDs: \" + str(two_agree) + \"\\n\"\n",
        "l_11= \"One tool agrees with all GeneIDs: \" + str(one_agree) + \"\\n\"\n",
        "l_12= \"No tool agrees with all GeneIDs:  \" + str(none_agree) + \"\\n\"\n",
        "l_2 = str(dif_AN_SN_sum) + \"\\t in ANNOVAR \\t but not in \\t SnpEff \\n\"\n",
        "l_3 = str(dif_AN_VP_sum) + \"\\t in ANNOVAR \\t but not in \\t VEP \\n\"\n",
        "l_4 = str(dif_SN_AN_sum) + \"\\t in SnpEff \\t but not in \\t ANNOVAR \\n\"\n",
        "l_5 = str(dif_SN_VP_sum) + \"\\t in SnpEff \\t but not in \\t VEP \\n\"\n",
        "l_6 = str(dif_VP_AN_sum) + \"\\t in VEP    \\t but not in \\t ANNOVAR \\n\"\n",
        "l_7 = str(dif_VP_SN_sum) + \"\\t in VEP    \\t but not in \\t SnpEff \\n\"\n",
        "\n",
        "\n",
        "# Creating a .txt file with the summary results\n",
        "chromo = filename_1[0]+\"_summary.\"+filename_1[1]\n",
        "f = open('/content/'+ chromo,\"w+\")\n",
        "f.writelines([l_1, l_8, \"\\n\", l_9, l_10, l_11, l_12, \"\\n\", l_2, l_3, l_4, l_5, l_6, l_7])\n",
        "f.close()"
      ],
      "execution_count": 17,
      "outputs": []
    },
    {
      "cell_type": "code",
      "metadata": {
        "id": "IMCajjKrbH8d"
      },
      "source": [
        ""
      ],
      "execution_count": null,
      "outputs": []
    }
  ]
}